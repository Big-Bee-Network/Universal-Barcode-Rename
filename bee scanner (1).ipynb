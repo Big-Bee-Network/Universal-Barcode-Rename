{
 "cells": [
  {
   "cell_type": "code",
   "execution_count": 1,
   "id": "abed51b8",
   "metadata": {},
   "outputs": [],
   "source": [
    "#pip install pylibdmtx\n",
    "#pip install kraken"
   ]
  },
  {
   "cell_type": "code",
   "execution_count": 2,
   "id": "f570dc5f",
   "metadata": {},
   "outputs": [],
   "source": [
    "#to read Data Matrix barcodes\n",
    "#libdtmx library\n",
    "\n",
    "# https://pypi.org/project/pylibdmtx/\n",
    "from pylibdmtx import pylibdmtx\n",
    "from PIL import Image\n",
    "from pyzbar import pyzbar\n",
    "from pyzbar.pyzbar import ZBarSymbol\n",
    "from kraken import binarization\n",
    "from pathlib import Path\n",
    "import cv2\n",
    "import glob\n",
    "import time\n",
    "import os\n"
   ]
  },
  {
   "cell_type": "code",
   "execution_count": 3,
   "id": "a2cc0074",
   "metadata": {},
   "outputs": [
    {
     "name": "stdout",
     "output_type": "stream",
     "text": [
      "21.jpg cannot be read\n",
      "22.jpg cannot be read\n",
      "23.jpg cannot be read\n",
      "24.jpg cannot be read\n",
      "25.jpg cannot be read\n",
      "26.jpg cannot be read\n",
      "27.jpg cannot be read\n",
      "28.jpg cannot be read\n",
      "29.jpg cannot be read\n",
      "This code took 1751.9276993274689 seconds\n"
     ]
    }
   ],
   "source": [
    "#for loop that iterates through the file with bee images\n",
    "# if image has a QRcode, apply some QR Reader\n",
    "# if image has data matrix: apply DataMatrix reader\n",
    "  # else: No QR/DataMatrix detected\n",
    "\n",
    "#iterate through the images located in the folder with the images\n",
    "directory = r\"C:\\Users\\Jonathan\\bee_project\\bee_images\"\n",
    "\n",
    "#keep track of how long the process takes\n",
    "start_time = time.time()\n",
    "\n",
    "#retrieve to the file location\n",
    "files  = Path(directory).glob('*')\n",
    "\n",
    "for file in files:\n",
    "    #read the image\n",
    "    im = Image.open(str(file)) \n",
    "    #resize all the images to the same size \n",
    "    resize_27 = im.resize((900,900))\n",
    "    bw_im = binarization.nlbin(resize_27)\n",
    "    #decode the QR code for value\n",
    "    info_barcode = pyzbar.decode(bw_im, symbols = [ZBarSymbol.QRCODE])\n",
    "    \n",
    "    #if file has a readable barcode, change file name \n",
    "    if len(info_barcode) > 0:\n",
    "        os.rename(str(file), directory+ \"\\\\\" + bytes.decode(info_barcode[0][0])+ \".jpg\")\n",
    "    #check if object is a datamatrix, if not, then it is unreadable\n",
    "    else:\n",
    "        #check if object is a datamatrix\n",
    "        info_datamtrx = pylibdmtx.decode(im)\n",
    "        if len(info_datamtrx) > 0:\n",
    "            #renaming file, bytes.decode converts the byte object to string\n",
    "            os.rename(str(file), directory+ \"\\\\\" + bytes.decode(info_datamtrx[0][0])+ \".jpg\")\n",
    "        #else statemetn runs if object is unreadable or missing\n",
    "        else:\n",
    "            #print the image names that can not be read \n",
    "            print(str(''.join(filter(str.isdigit,str(file)))) +\".jpg\" + \" cannot be read\")\n",
    "print(\"This code took %s seconds\" % (time.time() - start_time))"
   ]
  },
  {
   "cell_type": "code",
   "execution_count": 4,
   "id": "7935dbdb",
   "metadata": {},
   "outputs": [],
   "source": [
    "# for next time: Faster code, try using CV2 instead of PIL \n",
    "# tell users which image has no QR \n",
    "# tell users which image has a QR/Datamatrix, but is unreadble\n",
    "# do not directly change the files(resizing should be done locally)"
   ]
  }
 ],
 "metadata": {
  "kernelspec": {
   "display_name": "Python 3 (ipykernel)",
   "language": "python",
   "name": "python3"
  },
  "language_info": {
   "codemirror_mode": {
    "name": "ipython",
    "version": 3
   },
   "file_extension": ".py",
   "mimetype": "text/x-python",
   "name": "python",
   "nbconvert_exporter": "python",
   "pygments_lexer": "ipython3",
   "version": "3.9.7"
  }
 },
 "nbformat": 4,
 "nbformat_minor": 5
}
